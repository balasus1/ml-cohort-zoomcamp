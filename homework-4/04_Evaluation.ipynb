{
 "cells": [
  {
   "cell_type": "code",
   "execution_count": 3,
   "id": "cc6fa0d5",
   "metadata": {},
   "outputs": [
    {
     "name": "stdout",
     "output_type": "stream",
     "text": [
      "Train: 59.99%, Validate: 20.00%, Test: 20.02%\n"
     ]
    }
   ],
   "source": [
    "import wget\n",
    "import pandas as pd\n",
    "import numpy as np\n",
    "\n",
    "# Step 1 — Load dataset and keep required columns\n",
    "\n",
    "df = pd.read_csv(\"bank.csv\", sep=\";\")\n",
    "\n",
    "cols = ['age',\n",
    "        'job',\n",
    "        'marital',\n",
    "        'education',\n",
    "        'balance',\n",
    "        'housing',\n",
    "        'contact',\n",
    "        'day',\n",
    "        'month',\n",
    "        'duration',\n",
    "        'campaign',\n",
    "        'pdays',\n",
    "        'previous',\n",
    "        'poutcome',\n",
    "        'y'\n",
    "]\n",
    "\n",
    "df = df[cols]\n",
    "\n",
    "# Step 2 — Convert target y to binary\n",
    "df['y'] = (df['y'] == 'yes').astype(int)\n",
    "\n",
    "# Step 3 — Split into train/validate/test (60/20/20)\n",
    "from sklearn.model_selection import train_test_split\n",
    "\n",
    "# first split: train_full 80%, test 20% \n",
    "df_train_full, df_test = train_test_split(df, test_size=0.2, random_state=1)\n",
    "df_train, df_validate = train_test_split(df_train_full, test_size=0.25, random_state=1)\n",
    "\n",
    "train_percent = len(df_train) / len(df)\n",
    "validate_percent = len(df_validate) / len(df)\n",
    "test_percent = len(df_test) / len(df)\n",
    "\n",
    "print(f\"Train: {train_percent:.2%}, Validate: {validate_percent:.2%}, Test: {test_percent:.2%}\")\n"
   ]
  },
  {
   "cell_type": "markdown",
   "id": "cdf78d5d",
   "metadata": {},
   "source": [
    "## Question 1: ROC AUC feature importance"
   ]
  },
  {
   "cell_type": "code",
   "execution_count": null,
   "id": "49a8f90a",
   "metadata": {},
   "outputs": [
    {
     "ename": "TypeError",
     "evalue": "unsupported format string passed to dict.__format__",
     "output_type": "error",
     "traceback": [
      "\u001b[31m---------------------------------------------------------------------------\u001b[39m",
      "\u001b[31mTypeError\u001b[39m                                 Traceback (most recent call last)",
      "\u001b[36mCell\u001b[39m\u001b[36m \u001b[39m\u001b[32mIn[9]\u001b[39m\u001b[32m, line 14\u001b[39m\n\u001b[32m     11\u001b[39m         auc = roc_auc_score(df_train[\u001b[33m'\u001b[39m\u001b[33my\u001b[39m\u001b[33m'\u001b[39m], -df_train[col])\n\u001b[32m     12\u001b[39m     auc_scores[col] = auc\n\u001b[32m---> \u001b[39m\u001b[32m14\u001b[39m \u001b[38;5;28mprint\u001b[39m(\u001b[33mf\u001b[39m\u001b[33m\"\u001b[39m\u001b[33mAUC_scores:\u001b[39m\u001b[38;5;132;01m{\u001b[39;00mauc_scores\u001b[38;5;132;01m:\u001b[39;00m\u001b[33m.2%\u001b[39m\u001b[38;5;132;01m}\u001b[39;00m\u001b[33m\"\u001b[39m)\n",
      "\u001b[31mTypeError\u001b[39m: unsupported format string passed to dict.__format__"
     ]
    }
   ],
   "source": [
    "from sklearn.metrics import roc_auc_score\n",
    "\n",
    "num_vars = ['balance', 'day', 'duration', 'previous']\n",
    "\n",
    "auc_scores = {}\n",
    "\n",
    "for col in num_vars:\n",
    "    auc = roc_auc_score(df_train['y'], df_train[col])\n",
    "    # invert if < 0.5\n",
    "    if auc < 0.5:\n",
    "        auc = roc_auc_score(df_train['y'], -df_train[col])\n",
    "    auc_scores[col] = auc\n",
    "\n",
    "print(f\"AUC_scores:{auc_scores}\")"
   ]
  }
 ],
 "metadata": {
  "kernelspec": {
   "display_name": "myenv",
   "language": "python",
   "name": "python3"
  },
  "language_info": {
   "codemirror_mode": {
    "name": "ipython",
    "version": 3
   },
   "file_extension": ".py",
   "mimetype": "text/x-python",
   "name": "python",
   "nbconvert_exporter": "python",
   "pygments_lexer": "ipython3",
   "version": "3.13.7"
  }
 },
 "nbformat": 4,
 "nbformat_minor": 5
}

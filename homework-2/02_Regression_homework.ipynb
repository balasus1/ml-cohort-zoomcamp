{
 "cells": [
  {
   "cell_type": "code",
   "execution_count": 85,
   "id": "744c6a60",
   "metadata": {},
   "outputs": [
    {
     "name": "stdout",
     "output_type": "stream",
     "text": [
      "Note: you may need to restart the kernel to use updated packages.\n"
     ]
    }
   ],
   "source": [
    "\n",
    "%pip install -q pandas numpy scikit-learn wget"
   ]
  },
  {
   "cell_type": "code",
   "execution_count": 86,
   "id": "57ecc367",
   "metadata": {
    "scrolled": true
   },
   "outputs": [],
   "source": [
    "\n",
    "import wget\n",
    "import pandas as pd\n",
    "import numpy as np\n",
    "from sklearn.linear_model import LinearRegression, Ridge\n",
    "\n",
    "CSV_URL = \"https://raw.githubusercontent.com/alexeygrigorev/datasets/master/car_fuel_efficiency.csv\"\n",
    "\n",
    "def download_if_needed(path=\"car_fuel_efficiency.csv\"):\n",
    "    if not pd.io.common.file_exists(path):\n",
    "        wget.download(CSV_URL, path)\n",
    "    return path\n",
    "\n",
    "def rmse(y_true, y_pred):\n",
    "    return mean_squared_error(y_true, y_pred, squared=False)"
   ]
  },
  {
   "cell_type": "code",
   "execution_count": 87,
   "id": "8c9bd35e",
   "metadata": {},
   "outputs": [
    {
     "data": {
      "text/html": [
       "<div>\n",
       "<style scoped>\n",
       "    .dataframe tbody tr th:only-of-type {\n",
       "        vertical-align: middle;\n",
       "    }\n",
       "\n",
       "    .dataframe tbody tr th {\n",
       "        vertical-align: top;\n",
       "    }\n",
       "\n",
       "    .dataframe thead th {\n",
       "        text-align: right;\n",
       "    }\n",
       "</style>\n",
       "<table border=\"1\" class=\"dataframe\">\n",
       "  <thead>\n",
       "    <tr style=\"text-align: right;\">\n",
       "      <th></th>\n",
       "      <th>engine_displacement</th>\n",
       "      <th>horsepower</th>\n",
       "      <th>vehicle_weight</th>\n",
       "      <th>model_year</th>\n",
       "      <th>fuel_efficiency_mpg</th>\n",
       "    </tr>\n",
       "  </thead>\n",
       "  <tbody>\n",
       "    <tr>\n",
       "      <th>0</th>\n",
       "      <td>170</td>\n",
       "      <td>159.0</td>\n",
       "      <td>3413.433759</td>\n",
       "      <td>2003</td>\n",
       "      <td>13.231729</td>\n",
       "    </tr>\n",
       "    <tr>\n",
       "      <th>1</th>\n",
       "      <td>130</td>\n",
       "      <td>97.0</td>\n",
       "      <td>3149.664934</td>\n",
       "      <td>2007</td>\n",
       "      <td>13.688217</td>\n",
       "    </tr>\n",
       "    <tr>\n",
       "      <th>2</th>\n",
       "      <td>170</td>\n",
       "      <td>78.0</td>\n",
       "      <td>3079.038997</td>\n",
       "      <td>2018</td>\n",
       "      <td>14.246341</td>\n",
       "    </tr>\n",
       "  </tbody>\n",
       "</table>\n",
       "</div>"
      ],
      "text/plain": [
       "   engine_displacement  horsepower  vehicle_weight  model_year  \\\n",
       "0                  170       159.0     3413.433759        2003   \n",
       "1                  130        97.0     3149.664934        2007   \n",
       "2                  170        78.0     3079.038997        2018   \n",
       "\n",
       "   fuel_efficiency_mpg  \n",
       "0            13.231729  \n",
       "1            13.688217  \n",
       "2            14.246341  "
      ]
     },
     "execution_count": 87,
     "metadata": {},
     "output_type": "execute_result"
    }
   ],
   "source": [
    "\n",
    "csv_path = download_if_needed()\n",
    "cols = ['engine_displacement','horsepower','vehicle_weight','model_year','fuel_efficiency_mpg']\n",
    "df = pd.read_csv(csv_path, usecols=cols)\n",
    "df.head(3)"
   ]
  },
  {
   "cell_type": "markdown",
   "id": "2f699d7d",
   "metadata": {},
   "source": [
    "## Q1: There's one column with missing values. What is it?\n",
    "\n"
   ]
  },
  {
   "cell_type": "code",
   "execution_count": 65,
   "id": "19ac9734",
   "metadata": {},
   "outputs": [
    {
     "name": "stdout",
     "output_type": "stream",
     "text": [
      "engine_displacement      0\n",
      "horsepower             708\n",
      "vehicle_weight           0\n",
      "model_year               0\n",
      "fuel_efficiency_mpg      0\n",
      "dtype: int64\n",
      "Missing column is horsepower\n"
     ]
    }
   ],
   "source": [
    "missing_counts = df.isna().sum()\n",
    "missing_counts\n",
    "print(missing_counts)\n",
    "print(f'Missing column is horsepower')"
   ]
  },
  {
   "cell_type": "markdown",
   "id": "c40c9528",
   "metadata": {},
   "source": [
    "## Q2: Median for horse power"
   ]
  },
  {
   "cell_type": "code",
   "execution_count": 66,
   "id": "053ff930",
   "metadata": {},
   "outputs": [
    {
     "name": "stdout",
     "output_type": "stream",
     "text": [
      "Median for horse power is  149.0\n"
     ]
    }
   ],
   "source": [
    "print(f'Median for horse power is ', df['horsepower'].dropna().median())"
   ]
  },
  {
   "cell_type": "markdown",
   "id": "d7ffcc28",
   "metadata": {},
   "source": [
    "## Q3: Prepare and split the dataset\n",
    "\n",
    "- Shuffle the dataset (the filtered one you created above), use seed 42.\n",
    "- Split your data in train/val/test sets, with 60%/20%/20% distribution."
   ]
  },
  {
   "cell_type": "code",
   "execution_count": 67,
   "id": "1711200a",
   "metadata": {},
   "outputs": [],
   "source": [
    "def split_60_20_20(dataframe, seed=42):\n",
    "    df_sh = dataframe.sample(frac=1, random_state=seed).reset_index(drop=True)\n",
    "    n = len(df_sh)\n",
    "    t = int(0.6 * n)\n",
    "    v = t + int(0.2 * n)\n",
    "    return df_sh.iloc[:t].reset_index(drop=True), df_sh.iloc[t:v].reset_index(drop=True), df_sh.iloc[v:].reset_index(drop=True)"
   ]
  },
  {
   "cell_type": "code",
   "execution_count": 68,
   "id": "53a7d2d9",
   "metadata": {},
   "outputs": [],
   "source": [
    "\n",
    "def prepare_xy(df_part):\n",
    "    X = df_part.drop(columns=['fuel_efficiency_mpg']).copy()\n",
    "    # coerce to numeric\n",
    "    for c in X.columns:\n",
    "        X[c] = pd.to_numeric(X[c], errors='coerce')\n",
    "    y = df_part['fuel_efficiency_mpg'].values\n",
    "    return X, y"
   ]
  },
  {
   "cell_type": "markdown",
   "id": "250a3a85",
   "metadata": {},
   "source": [
    "## Q3: \n",
    "- We need to deal with missing values for the column from Q1.\n",
    "- We have two options: fill it with 0 or with the mean of this variable.\n",
    "- Try both options. For each, train a linear regression model without regularization using the code from the lessons.\n",
    "- For computing the mean, use the training only!\n",
    "- Use the validation dataset to evaluate the models and compare the RMSE of each option.\n",
    "- Round the RMSE scores to 2 decimal digits using round(score, 2)\n",
    "- Which option gives better RMSE?\n"
   ]
  },
  {
   "cell_type": "code",
   "execution_count": 89,
   "id": "63f4e824",
   "metadata": {},
   "outputs": [
    {
     "name": "stdout",
     "output_type": "stream",
     "text": [
      "Q3: With mean | RMSE fill(0) = 0.52 | RMSE fill(mean) = 0.46\n"
     ]
    }
   ],
   "source": [
    "\n",
    "import numpy as np\n",
    "from sklearn.metrics import mean_squared_error\n",
    "\n",
    "def rmse(y_true, y_pred):\n",
    "    return np.sqrt(mean_squared_error(y_true, y_pred))\n",
    "    \n",
    "train, val, test = split_60_20_20(df, seed=42)\n",
    "X_train, y_train = prepare_xy(train)\n",
    "X_val, y_val = prepare_xy(val)\n",
    "\n",
    "# Option A: fill 0\n",
    "Xtr0 = X_train.fillna(0)\n",
    "Xvl0 = X_val.fillna(0)\n",
    "model0 = LinearRegression().fit(Xtr0, y_train)\n",
    "rmse0 = round(rmse(y_val, model0.predict(Xvl0)), 2)\n",
    "\n",
    "# Option B: fill train mean (compute mean on X_train)\n",
    "train_mean = X_train.mean()\n",
    "Xtr_mean = X_train.fillna(train_mean)\n",
    "Xvl_mean = X_val.fillna(train_mean)\n",
    "model_mean = LinearRegression().fit(Xtr_mean, y_train)\n",
    "rmse_mean = round(rmse(y_val, model_mean.predict(Xvl_mean)), 2)\n",
    "\n",
    "\n",
    "if rmse0 < rmse_mean:\n",
    "    q3 = \"With 0\"\n",
    "elif rmse_mean < rmse0:\n",
    "    q3 = \"With mean\"\n",
    "else:\n",
    "    q3 = \"Both are equally good\"\n",
    "print(\"Q3:\", q3, \"| RMSE fill(0) =\", rmse0, \"| RMSE fill(mean) =\", rmse_mean)"
   ]
  },
  {
   "cell_type": "markdown",
   "id": "caaecb79",
   "metadata": {},
   "source": [
    "## Question 4\n",
    "- Now let's train a regularized linear regression.\n",
    "- For this question, fill the NAs with 0.\n",
    "- Try different values of r from this list: [0, 0.01, 0.1, 1, 5, 10, 100].\n",
    "- Use RMSE to evaluate the model on the validation dataset.\n",
    "- Round the RMSE scores to 2 decimal digits.\n",
    "- Which r gives the best RMSE?\n",
    "- If multiple options give the same best RMSE, select the smallest r."
   ]
  },
  {
   "cell_type": "code",
   "execution_count": 90,
   "id": "9ac3d9fd",
   "metadata": {},
   "outputs": [
    {
     "name": "stdout",
     "output_type": "stream",
     "text": [
      "Q4: best r = 0 | RMSE = 0.52\n"
     ]
    }
   ],
   "source": [
    "Xtr_r = X_train.fillna(0)\n",
    "Xvl_r = X_val.fillna(0)\n",
    "r_list = [0, 0.01, 0.1, 1, 5, 10, 100]\n",
    "results_q4 = {}\n",
    "\n",
    "for r in r_list:\n",
    "    if r == 0:\n",
    "        m = LinearRegression().fit(Xtr_r, y_train)\n",
    "    else:\n",
    "        m = Ridge(alpha=r).fit(Xtr_r, y_train)\n",
    "    results_q4[r] = round(rmse(y_val, m.predict(Xvl_r)), 2)\n",
    "\n",
    "results_q4\n",
    "min_rmse = min(results_q4.values())\n",
    "best_rs = sorted([r for r,v in results_q4.items() if v==min_rmse])\n",
    "q4 = best_rs[0]\n",
    "print(\"Q4: best r =\", q4, \"| RMSE =\", results_q4[q4])"
   ]
  },
  {
   "cell_type": "markdown",
   "id": "fff10cf6",
   "metadata": {},
   "source": [
    "## Question 5\n",
    "- We used seed 42 for splitting the data. Let's find out how selecting the seed influences our score.\n",
    "- Try different seed values: [0, 1, 2, 3, 4, 5, 6, 7, 8, 9].\n",
    "- For each seed, do the train/validation/test split with 60%/20%/20% distribution.\n",
    "- Fill the missing values with 0 and train a model without regularization.\n",
    "- For each seed, evaluate the model on the validation dataset and collect the RMSE scores.\n",
    "- What's the standard deviation of all the scores? To compute the standard deviation, use np.std.\n",
    "- Round the result to 3 decimal digits (round(std, 3))"
   ]
  },
  {
   "cell_type": "code",
   "execution_count": 81,
   "id": "b0e324dd",
   "metadata": {},
   "outputs": [
    {
     "name": "stdout",
     "output_type": "stream",
     "text": [
      "Q5: std = 0.007\n"
     ]
    }
   ],
   "source": [
    "seed_scores = []\n",
    "for s in range(10):\n",
    "    tr, vl, _ = split_60_20_20(df, seed=s)\n",
    "    Xtr_s, ytr_s = prepare_xy(tr)\n",
    "    Xvl_s, yvl_s = prepare_xy(vl)\n",
    "    Xtr_s = Xtr_s.fillna(0)\n",
    "    Xvl_s = Xvl_s.fillna(0)\n",
    "    m = LinearRegression().fit(Xtr_s, ytr_s)\n",
    "    seed_scores.append(rmse(yvl_s, m.predict(Xvl_s)))\n",
    "\n",
    "std_scores = round(np.std(seed_scores), 3)\n",
    "seed_scores_rounded = [round(x,3) for x in seed_scores]\n",
    "std_scores, seed_scores_rounded\n",
    "print(\"Q5: std =\", std_scores)"
   ]
  },
  {
   "cell_type": "markdown",
   "id": "797f8d20",
   "metadata": {},
   "source": [
    "## Q6: Evaluation on test"
   ]
  },
  {
   "cell_type": "code",
   "execution_count": 83,
   "id": "7af611c7",
   "metadata": {},
   "outputs": [
    {
     "name": "stdout",
     "output_type": "stream",
     "text": [
      "Q6: rmse= 0.515\n"
     ]
    }
   ],
   "source": [
    "tr, vl, tst = split_60_20_20(df, seed=9)\n",
    "train_comb = pd.concat([tr, vl], ignore_index=True)\n",
    "X_train_full, y_train_full = prepare_xy(train_comb)\n",
    "X_test, y_test = prepare_xy(tst)\n",
    "\n",
    "X_train_full = X_train_full.fillna(0)\n",
    "X_test = X_test.fillna(0)\n",
    "\n",
    "model_q6 = Ridge(alpha=0.001).fit(X_train_full, y_train_full)\n",
    "q6_rmse = round(rmse(y_test, model_q6.predict(X_test)), 3)\n",
    "print(\"Q6: rmse=\", q6_rmse)"
   ]
  },
  {
   "cell_type": "markdown",
   "id": "8cad67bc",
   "metadata": {},
   "source": [
    "## ------------ End of Assignment-2 ------------"
   ]
  }
 ],
 "metadata": {
  "kernelspec": {
   "display_name": "myenv",
   "language": "python",
   "name": "python3"
  },
  "language_info": {
   "codemirror_mode": {
    "name": "ipython",
    "version": 3
   },
   "file_extension": ".py",
   "mimetype": "text/x-python",
   "name": "python",
   "nbconvert_exporter": "python",
   "pygments_lexer": "ipython3",
   "version": "3.13.7"
  }
 },
 "nbformat": 4,
 "nbformat_minor": 5
}

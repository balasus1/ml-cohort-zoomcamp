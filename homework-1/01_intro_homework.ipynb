{
 "cells": [
  {
   "cell_type": "code",
   "execution_count": 1,
   "id": "dad13dca-f08a-4aba-a9ba-b6e1fec4c017",
   "metadata": {},
   "outputs": [],
   "source": [
    "import pandas as pd\n",
    "import numpy as np\n",
    "\n",
    "from matplotlib import pyplot as plt\n",
    "import seaborn as sns"
   ]
  },
  {
   "cell_type": "code",
   "execution_count": 2,
   "id": "e3ed5eff-e947-41c8-83fe-7655af62c0c5",
   "metadata": {},
   "outputs": [
    {
     "name": "stdout",
     "output_type": "stream",
     "text": [
      "Installed Pandas version is 2.3.3\n"
     ]
    }
   ],
   "source": [
    "# Q1. Pandas version\n",
    "# What version of Pandas did you install?\n",
    "\n",
    "# You can get the version information using the __version__ field:\n",
    "# pd.__version__\n",
    "\n",
    "print(f'Installed Pandas version is {pd.__version__}')"
   ]
  },
  {
   "cell_type": "code",
   "execution_count": 3,
   "id": "a3db95d9-c912-44a1-ad6c-377b5fa087a5",
   "metadata": {},
   "outputs": [
    {
     "name": "stdout",
     "output_type": "stream",
     "text": [
      "   engine_displacement  num_cylinders  horsepower  vehicle_weight  \\\n",
      "0                  170            3.0       159.0     3413.433759   \n",
      "1                  130            5.0        97.0     3149.664934   \n",
      "2                  170            NaN        78.0     3079.038997   \n",
      "3                  220            4.0         NaN     2542.392402   \n",
      "4                  210            1.0       140.0     3460.870990   \n",
      "\n",
      "   acceleration  model_year  origin fuel_type         drivetrain  num_doors  \\\n",
      "0          17.7        2003  Europe  Gasoline    All-wheel drive        0.0   \n",
      "1          17.8        2007     USA  Gasoline  Front-wheel drive        0.0   \n",
      "2          15.1        2018  Europe  Gasoline  Front-wheel drive        0.0   \n",
      "3          20.2        2009     USA    Diesel    All-wheel drive        2.0   \n",
      "4          14.4        2009  Europe  Gasoline    All-wheel drive        2.0   \n",
      "\n",
      "   fuel_efficiency_mpg  \n",
      "0            13.231729  \n",
      "1            13.688217  \n",
      "2            14.246341  \n",
      "3            16.912736  \n",
      "4            12.488369  \n"
     ]
    }
   ],
   "source": [
    "import pandas as pd\n",
    "\n",
    "url = \"https://raw.githubusercontent.com/alexeygrigorev/datasets/master/car_fuel_efficiency.csv\"\n",
    "df = pd.read_csv(url)\n",
    "\n",
    "print(df.head())"
   ]
  },
  {
   "cell_type": "code",
   "execution_count": 4,
   "id": "58f59fae-1ed1-4505-9ce0-1739e4a05f90",
   "metadata": {},
   "outputs": [
    {
     "name": "stdout",
     "output_type": "stream",
     "text": [
      "There are 9704 records present in the dataset\n"
     ]
    }
   ],
   "source": [
    "# Q2. Records count\n",
    "# How many records are in the dataset?\n",
    "print(f'There are {len(df)} records present in the dataset')"
   ]
  },
  {
   "cell_type": "code",
   "execution_count": 36,
   "id": "7fe611a9-6ef5-4f9c-93c1-7c0e0b95240f",
   "metadata": {},
   "outputs": [
    {
     "name": "stdout",
     "output_type": "stream",
     "text": [
      "There are 2 fuel types present in the dataset. They are ['Gasoline' 'Diesel']\n"
     ]
    }
   ],
   "source": [
    "# Q3. Fuel types\n",
    "# How many fuel types are presented in the dataset?\n",
    "num_fuel_types = df['fuel_type'].nunique()\n",
    "print(f'There are {num_fuel_types} fuel types present in the dataset. They are {df[\"fuel_type\"].unique()}')"
   ]
  },
  {
   "cell_type": "code",
   "execution_count": 5,
   "id": "eeb04762-cae7-4131-9c71-53af0767bc1c",
   "metadata": {},
   "outputs": [
    {
     "name": "stdout",
     "output_type": "stream",
     "text": [
      "There are 4 missing columns in the dataset\n",
      "The columns with missing values are:\n",
      "num_cylinders    482\n",
      "horsepower       708\n",
      "acceleration     930\n",
      "num_doors        502\n",
      "dtype: int64\n"
     ]
    }
   ],
   "source": [
    "# Q4. Missing values\n",
    "# How many columns in the dataset have missing values?\n",
    "# 1. Missing values per column\n",
    "missing_values_in_col = df.isna().sum()\n",
    "# 2. Columns with atleast one missing value\n",
    "missing_col = missing_values_in_col[missing_values_in_col > 0]\n",
    "# 3. Number of columns with missing values\n",
    "num_cols_missing = len(missing_col)\n",
    "# print value\n",
    "print(f'There are {num_cols_missing} missing columns in the dataset')\n",
    "print(\"The columns with missing values are:\")\n",
    "print(missing_col)"
   ]
  },
  {
   "cell_type": "code",
   "execution_count": 38,
   "id": "31e731b5-1885-41e2-9694-b08b71eb1b45",
   "metadata": {},
   "outputs": [
    {
     "name": "stdout",
     "output_type": "stream",
     "text": [
      "The max fuel efficiency of cars from Asia(Asian Cars) is 23.759122836520497\n"
     ]
    }
   ],
   "source": [
    "# Q5. Max fuel efficiency\n",
    "# What's the maximum fuel efficiency of cars from Asia?\n",
    "cars_from_asia = df[df['origin'] == 'Asia']\n",
    "max_fuel_efficiency = cars_from_asia['fuel_efficiency_mpg'].max()\n",
    "print(f'The max fuel efficiency of cars from Asia(Asian Cars) is {max_fuel_efficiency}')"
   ]
  },
  {
   "cell_type": "code",
   "execution_count": 39,
   "id": "6f776603-e9ca-49b5-8549-b109dbea5a92",
   "metadata": {},
   "outputs": [
    {
     "name": "stdout",
     "output_type": "stream",
     "text": [
      "No\n"
     ]
    }
   ],
   "source": [
    "# Q6. Median value of horsepower\n",
    "# Find the median value of the horsepower column in the dataset.\n",
    "# Next, calculate the most frequent value of the same horsepower column.\n",
    "# Use the fillna method to fill the missing values in the horsepower column with the most frequent value from the previous step.\n",
    "# Now, calculate the median value of horsepower once again.\n",
    "# Has it changed?\n",
    "# \n",
    "# Yes, it increased\n",
    "# Yes, it decreased\n",
    "# No\n",
    "median_horsepower_before = df['horsepower'].median()\n",
    "most_freq_horsepower = df['horsepower'].mode()[0]\n",
    "df['horsepower'] = df['horsepower'].fillna(most_freq_horsepower)\n",
    "median_horsepower_after = df['horsepower'].median()\n",
    "if median_horsepower_after > median_horsepower_before:\n",
    "    print(\"Yes, it increased\")\n",
    "elif median_horsepower_after < median_horsepower_before:\n",
    "    print(\"Yes, it decreased\")\n",
    "else:\n",
    "    print(\"No\")"
   ]
  },
  {
   "cell_type": "code",
   "execution_count": 29,
   "id": "c9294a8a-9bcc-4342-885a-071bfa5a121b",
   "metadata": {},
   "outputs": [
    {
     "name": "stdout",
     "output_type": "stream",
     "text": [
      "Sum of all elements in w is 0.5187709081074006\n"
     ]
    }
   ],
   "source": [
    "# Q7. Sum of weights\n",
    "# Select all the cars from Asia\n",
    "# Select only columns vehicle_weight and model_year\n",
    "# Select the first 7 values\n",
    "# Get the underlying NumPy array. Let's call it X.\n",
    "X = df[df['origin'] == 'Asia'][['vehicle_weight', 'model_year']].head(7).to_numpy()\n",
    "# Compute matrix-matrix multiplication between the transpose of X and X. To get the transpose, use X.T. Let's call the result XTX.\n",
    "# Invert XTX.\n",
    "XTX = X.T @ X\n",
    "XTX_inverse = np.linalg.inv(XTX)\n",
    "# Create an array y with values [1100, 1300, 800, 900, 1000, 1100, 1200].\n",
    "y = [1100, 1300, 800, 900, 1000, 1100, 1200]\n",
    "# Multiply the inverse of XTX with the transpose of X, and then multiply the result by y. Call the result w.\n",
    "w = XTX_inverse @ X.T @ y\n",
    "# What's the sum of all the elements of the result?\n",
    "sum = w.sum()\n",
    "print(f'Sum of all elements in w is {sum}')"
   ]
  },
  {
   "cell_type": "code",
   "execution_count": 6,
   "id": "30bf0e1f-195f-4ecb-bbc1-f4b1bda860f4",
   "metadata": {},
   "outputs": [
    {
     "name": "stdout",
     "output_type": "stream",
     "text": [
      "Submitted homework-1\n"
     ]
    }
   ],
   "source": [
    "print(\"Submitted homework-1\")"
   ]
  }
 ],
 "metadata": {
  "kernelspec": {
   "display_name": "myenv",
   "language": "python",
   "name": "python3"
  },
  "language_info": {
   "codemirror_mode": {
    "name": "ipython",
    "version": 3
   },
   "file_extension": ".py",
   "mimetype": "text/x-python",
   "name": "python",
   "nbconvert_exporter": "python",
   "pygments_lexer": "ipython3",
   "version": "3.13.7"
  }
 },
 "nbformat": 4,
 "nbformat_minor": 5
}
